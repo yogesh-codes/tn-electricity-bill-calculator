{
 "cells": [
  {
   "cell_type": "markdown",
   "metadata": {},
   "source": [
    "Making a helper functions to export and import csv files"
   ]
  },
  {
   "cell_type": "code",
   "execution_count": 1,
   "metadata": {},
   "outputs": [],
   "source": [
    "import numpy as np\n",
    "import pandas as pd \n",
    "from datetime import datetime\n",
    "import os\n",
    "\n",
    "from pprint import pprint"
   ]
  },
  {
   "cell_type": "markdown",
   "metadata": {},
   "source": []
  },
  {
   "cell_type": "code",
   "execution_count": 2,
   "metadata": {},
   "outputs": [],
   "source": [
    "\n",
    "filename=\"abc.csv\"\n",
    "DATA_DIR=\"../data\"\n",
    "\n",
    "base_dir=r\"../data/processed\""
   ]
  },
  {
   "cell_type": "code",
   "execution_count": 3,
   "metadata": {},
   "outputs": [],
   "source": [
    "\n",
    "def generate_timestamped_filepath(filename):\n",
    "    # Get filename without extension (e.g., 'abc' from 'abc.csv')\n",
    "    base_name,extension = os.path.splitext(filename)\n",
    "    extension=extension[1:]\n",
    "    \n",
    "    # Create subfolder for the CSV exports\n",
    "    output_dir = os.path.join(base_dir, f\"{base_name}_{extension}\")\n",
    "    os.makedirs(output_dir, exist_ok=True)\n",
    "    \n",
    "    # Generate timestamped filename\n",
    "    timestamp = datetime.now().strftime(\"%Y%m%d_%H%M%S\")\n",
    "    output_path = os.path.join(output_dir, f\"{timestamp}_{base_name}.csv\")\n",
    "    \n",
    "    # Export DataFrame to CSV\n",
    "    return output_path#df.to_csv(output_path, index=False)\n",
    "    \n",
    "    print(f\"Exported to: {output_path}\")    \n"
   ]
  },
  {
   "cell_type": "code",
   "execution_count": 4,
   "metadata": {},
   "outputs": [
    {
     "data": {
      "text/plain": [
       "'../data/processed\\\\abc_csv\\\\20250221_100925_abc.csv'"
      ]
     },
     "execution_count": 4,
     "metadata": {},
     "output_type": "execute_result"
    }
   ],
   "source": [
    "\n",
    "generate_timestamped_filepath(\"abc.csv\")"
   ]
  },
  {
   "cell_type": "code",
   "execution_count": 5,
   "metadata": {},
   "outputs": [
    {
     "data": {
      "text/html": [
       "<div>\n",
       "<style scoped>\n",
       "    .dataframe tbody tr th:only-of-type {\n",
       "        vertical-align: middle;\n",
       "    }\n",
       "\n",
       "    .dataframe tbody tr th {\n",
       "        vertical-align: top;\n",
       "    }\n",
       "\n",
       "    .dataframe thead th {\n",
       "        text-align: right;\n",
       "    }\n",
       "</style>\n",
       "<table border=\"1\" class=\"dataframe\">\n",
       "  <thead>\n",
       "    <tr style=\"text-align: right;\">\n",
       "      <th></th>\n",
       "    </tr>\n",
       "  </thead>\n",
       "  <tbody>\n",
       "  </tbody>\n",
       "</table>\n",
       "</div>"
      ],
      "text/plain": [
       "Empty DataFrame\n",
       "Columns: []\n",
       "Index: []"
      ]
     },
     "execution_count": 5,
     "metadata": {},
     "output_type": "execute_result"
    }
   ],
   "source": [
    "df=pd.DataFrame()\n",
    "df"
   ]
  },
  {
   "cell_type": "code",
   "execution_count": 6,
   "metadata": {},
   "outputs": [],
   "source": [
    "df.to_csv(generate_timestamped_filepath(\"heart.csv\"))"
   ]
  },
  {
   "cell_type": "code",
   "execution_count": null,
   "metadata": {},
   "outputs": [],
   "source": []
  },
  {
   "cell_type": "code",
   "execution_count": 7,
   "metadata": {},
   "outputs": [],
   "source": [
    "def obtain_latest_timestamp_filepath(filename):\n",
    "    # Extract base name without extension (e.g., 'abc' from 'abc.csv')\n",
    "    base_name, extension = os.path.splitext(filename)\n",
    "    extension = extension[1:]  # Remove the dot from extension\n",
    "\n",
    "    # Path to the subdirectory (e.g., DATA_DIR/abc_csv)\n",
    "    target_dir = os.path.join(base_dir, f\"{base_name}_{extension}\")\n",
    "    \n",
    "    # Check if the directory exists\n",
    "    if not os.path.exists(target_dir):\n",
    "        raise FileNotFoundError(f\"{target_dir} not found for given filename {filename}\")\n",
    "    \n",
    "\n",
    "    # Get all files in the directory and sort them\n",
    "    files = sorted(os.listdir(target_dir))\n",
    "\n",
    "    # Find the latest matching file\n",
    "    for file in reversed(files):\n",
    "        if file.endswith(filename):\n",
    "            print(f\"Found latest file-{file}\")\n",
    "            return os.path.join(target_dir, file)\n",
    "\n",
    "    raise FileNotFoundError(f\"No CSV files found in {target_dir}\")\n",
    "    "
   ]
  },
  {
   "cell_type": "code",
   "execution_count": null,
   "metadata": {},
   "outputs": [],
   "source": []
  },
  {
   "cell_type": "code",
   "execution_count": 8,
   "metadata": {},
   "outputs": [
    {
     "name": "stdout",
     "output_type": "stream",
     "text": [
      "Found latest file-20250221_100925_heart.csv\n"
     ]
    },
    {
     "data": {
      "text/plain": [
       "'../data/processed\\\\heart_csv\\\\20250221_100925_heart.csv'"
      ]
     },
     "execution_count": 8,
     "metadata": {},
     "output_type": "execute_result"
    }
   ],
   "source": [
    "obtain_latest_timestamp_filepath(\"heart.csv\")"
   ]
  },
  {
   "cell_type": "markdown",
   "metadata": {},
   "source": [
    "log: copied functions to Utils.fileutils.py"
   ]
  },
  {
   "cell_type": "code",
   "execution_count": 9,
   "metadata": {},
   "outputs": [
    {
     "data": {
      "text/plain": [
       "['e:\\\\code\\\\tn-electricity-bill-calculator\\\\.conda\\\\python311.zip',\n",
       " 'e:\\\\code\\\\tn-electricity-bill-calculator\\\\.conda\\\\DLLs',\n",
       " 'e:\\\\code\\\\tn-electricity-bill-calculator\\\\.conda\\\\Lib',\n",
       " 'e:\\\\code\\\\tn-electricity-bill-calculator\\\\.conda',\n",
       " '',\n",
       " 'e:\\\\code\\\\tn-electricity-bill-calculator\\\\.conda\\\\Lib\\\\site-packages',\n",
       " 'e:\\\\code\\\\tn-electricity-bill-calculator\\\\.conda\\\\Lib\\\\site-packages\\\\win32',\n",
       " 'e:\\\\code\\\\tn-electricity-bill-calculator\\\\.conda\\\\Lib\\\\site-packages\\\\win32\\\\lib',\n",
       " 'e:\\\\code\\\\tn-electricity-bill-calculator\\\\.conda\\\\Lib\\\\site-packages\\\\Pythonwin',\n",
       " 'e:\\\\code\\\\tn-electricity-bill-calculator\\\\src']"
      ]
     },
     "execution_count": 9,
     "metadata": {},
     "output_type": "execute_result"
    }
   ],
   "source": [
    "%load_ext autoreload\n",
    "%autoreload 2\n",
    "\n",
    "import sys\n",
    "import os\n",
    "\n",
    "# Add the src directory to the Python path\n",
    "src_path=os.path.abspath(\"../src\")\n",
    "if src_path not in sys.path:\n",
    "    sys.path.append(src_path)\n",
    "\n",
    "sys.path"
   ]
  },
  {
   "cell_type": "code",
   "execution_count": null,
   "metadata": {},
   "outputs": [],
   "source": []
  },
  {
   "cell_type": "code",
   "execution_count": 10,
   "metadata": {},
   "outputs": [
    {
     "name": "stdout",
     "output_type": "stream",
     "text": [
      "True\n"
     ]
    }
   ],
   "source": [
    "print(os.path.exists(\"../src/Utils\"))"
   ]
  },
  {
   "cell_type": "code",
   "execution_count": 11,
   "metadata": {},
   "outputs": [
    {
     "name": "stdout",
     "output_type": "stream",
     "text": [
      "['fileutils.py', 'validate.py', '__pycache__']\n"
     ]
    }
   ],
   "source": [
    "print(os.listdir(\"../src/Utils\"))"
   ]
  },
  {
   "cell_type": "code",
   "execution_count": 15,
   "metadata": {},
   "outputs": [],
   "source": [
    "from utils.fileutils import generate_timestamped_filepath, obtain_latest_timestamp_filepath"
   ]
  },
  {
   "cell_type": "code",
   "execution_count": 16,
   "metadata": {},
   "outputs": [
    {
     "data": {
      "text/plain": [
       "'../data/processed\\\\heart_dat\\\\20250221_101151_heart.dat'"
      ]
     },
     "execution_count": 16,
     "metadata": {},
     "output_type": "execute_result"
    }
   ],
   "source": [
    "generate_timestamped_filepath(\"../data/processed\",\"heart.dat\")"
   ]
  },
  {
   "cell_type": "code",
   "execution_count": 22,
   "metadata": {},
   "outputs": [],
   "source": [
    "base_dir=\"../data/processed/\"\n",
    "df.to_json(generate_timestamped_filepath(base_dir,\"stuff.json\"))"
   ]
  },
  {
   "cell_type": "code",
   "execution_count": 23,
   "metadata": {},
   "outputs": [
    {
     "name": "stdout",
     "output_type": "stream",
     "text": [
      "Found latest file: 20250221_101518_stuff.json\n"
     ]
    },
    {
     "data": {
      "text/html": [
       "<div>\n",
       "<style scoped>\n",
       "    .dataframe tbody tr th:only-of-type {\n",
       "        vertical-align: middle;\n",
       "    }\n",
       "\n",
       "    .dataframe tbody tr th {\n",
       "        vertical-align: top;\n",
       "    }\n",
       "\n",
       "    .dataframe thead th {\n",
       "        text-align: right;\n",
       "    }\n",
       "</style>\n",
       "<table border=\"1\" class=\"dataframe\">\n",
       "  <thead>\n",
       "    <tr style=\"text-align: right;\">\n",
       "      <th></th>\n",
       "    </tr>\n",
       "  </thead>\n",
       "  <tbody>\n",
       "  </tbody>\n",
       "</table>\n",
       "</div>"
      ],
      "text/plain": [
       "Empty DataFrame\n",
       "Columns: []\n",
       "Index: []"
      ]
     },
     "execution_count": 23,
     "metadata": {},
     "output_type": "execute_result"
    }
   ],
   "source": [
    "new_df=pd.read_json(obtain_latest_timestamp_filepath(base_dir,\"stuff.json\"))\n",
    "new_df"
   ]
  }
 ],
 "metadata": {
  "kernelspec": {
   "display_name": "Python 3",
   "language": "python",
   "name": "python3"
  },
  "language_info": {
   "codemirror_mode": {
    "name": "ipython",
    "version": 3
   },
   "file_extension": ".py",
   "mimetype": "text/x-python",
   "name": "python",
   "nbconvert_exporter": "python",
   "pygments_lexer": "ipython3",
   "version": "3.11.11"
  }
 },
 "nbformat": 4,
 "nbformat_minor": 2
}
